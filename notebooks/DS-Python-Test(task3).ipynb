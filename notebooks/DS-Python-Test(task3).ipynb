{
 "cells": [
  {
   "cell_type": "markdown",
   "id": "fc27f453-39bb-43ea-8888-8335aca9534b",
   "metadata": {},
   "source": [
    "# DS Python Test (Task3)\n",
    "In this notebook we are addressing task 3\n",
    "\n",
    "For further information, please access to the following \n",
    "[link]('../resources/DS_Python_Test.pdf') which contains the whole description of the tasks. \n",
    "However as a resume, the task to complete are the following ones:\n",
    "\n",
    "- Task1: Understanding User Journeys (Mandatory)\n",
    "- Task2: Finding the Longest Way to TripAdvisor (Optional)\n",
    "- **Task3: User Engagement and Retention Analysis (Optional)**\n",
    "\n",
    "This notebook will be a walktrough of the process to obtain the results.\n",
    "\n",
    "\n",
    "-----------\n",
    "\n",
    "## Context\n",
    "In this case, we are talking about a trip advisor session, which is defined \n",
    "from the moment a user enters a link to the last consecutive trip_advisor link is clicked.\n",
    "\n",
    "This will define certain cases or `states` of a session. For instance, if there is only one link of trip advisor. \n",
    "\n",
    "- If there is only one trip advisor link this is a `init-end` session. Because it ended and started in the same link.\n",
    "- There is also the cases where there is only two links, which will correspond to an `init` and to an `end` state correspondingly.\n",
    "- Additionaly there are cases where there are more than two trip_advisor consecutive links, which will correspond as a general form to \n",
    "an `init`, `during`, `during`, ..., `during`, `end` case for each instance. "
   ]
  },
  {
   "cell_type": "markdown",
   "id": "824b4dc9-11e3-4284-a890-7ab5e5442c66",
   "metadata": {},
   "source": [
    "## Import Libraries"
   ]
  },
  {
   "cell_type": "code",
   "execution_count": 1,
   "id": "a11d7bde-0e50-4a52-b11c-27f7064d06c5",
   "metadata": {},
   "outputs": [],
   "source": [
    "import os\n",
    "import pandas as pd\n",
    "import matplotlib.pyplot as plt\n",
    "import numpy as np\n",
    "\n",
    "from urllib.parse import urlparse"
   ]
  },
  {
   "cell_type": "markdown",
   "id": "8246785d-1f1d-4dc7-9608-8219a3333ad1",
   "metadata": {},
   "source": [
    "## Set Configuration and constants"
   ]
  },
  {
   "cell_type": "code",
   "execution_count": 2,
   "id": "409c378b-c548-4d82-a6a6-17477e5670c0",
   "metadata": {},
   "outputs": [],
   "source": [
    "# Constants\n",
    "URL_TRIPADVISOR = 'https://www.tripadvisor.com'\n",
    "URL_EMPTY_STRING = 'https://www.this_is_an_empty_string.com'\n",
    "\n",
    "# Configuration\n",
    "pd.set_option('display.max_rows', 100)\n",
    "pd.set_option('display.max_colwidth', None)"
   ]
  },
  {
   "cell_type": "markdown",
   "id": "74a67c38-4dbc-4cb7-96d3-770dd880f7cd",
   "metadata": {},
   "source": [
    "## Initial data read"
   ]
  },
  {
   "cell_type": "code",
   "execution_count": 3,
   "id": "c5c2f517-8e59-4521-9dd6-d20c29643474",
   "metadata": {},
   "outputs": [],
   "source": [
    "# Proccessed data: \n",
    "df = pd.read_parquet('../data/processed/data.parquet')"
   ]
  },
  {
   "cell_type": "markdown",
   "id": "b9b15985-0bd0-4672-a4cc-8ec575de95aa",
   "metadata": {},
   "source": [
    "## Helper functions: "
   ]
  },
  {
   "cell_type": "code",
   "execution_count": 4,
   "id": "7f820139-5bd8-4a9c-8205-bb87ea9e0c6b",
   "metadata": {},
   "outputs": [],
   "source": [
    "# Additional data process:\n",
    "def define_session_number_per_user(data):\n",
    "    \"\"\"This function removes consecutive duplicates from a url.\n",
    "\n",
    "    Parameters\n",
    "    ----------\n",
    "    data: pd.DataFrame\n",
    "        Original processed data. \n",
    "        \n",
    "    Returns\n",
    "    -------\n",
    "    df: pd.DataFrame\n",
    "        Returns a Dataframe with an additional session_nb column \n",
    "        for each session of each user. \n",
    "    \"\"\"\n",
    "    new_col = 'session_nb'\n",
    "    df = data.copy()\n",
    "    df.loc[df.session_ta.str.startswith('init'), new_col] = 1\n",
    "    df.loc[~df.session_ta.str.startswith('init'), new_col] = 0\n",
    "    df[new_col] = df[new_col].cumsum().astype('int')\n",
    "    return df"
   ]
  },
  {
   "cell_type": "markdown",
   "id": "5fe517e3-26f1-42d2-a37a-84983c5d2b14",
   "metadata": {},
   "source": [
    "## Task 3: User Engagement and Retention Analysis (Optional)\n",
    "\n",
    "### Objective:\n",
    "Analyze user engagement and retention with respect to TripAdvisor links. \n",
    "Are there particular features or pages that lead to higher engagement? \n",
    "Identify and visualize drop-off points or areas where users might abandon\n",
    "the journey to TripAdvisor."
   ]
  },
  {
   "cell_type": "code",
   "execution_count": 5,
   "id": "b6a2c867-7eb2-45c5-b966-22a8b9dd51d8",
   "metadata": {},
   "outputs": [],
   "source": [
    "# Lets modify original dataframe, adding session_numbers per user. and joined links\n",
    "data = df.groupby('userid').apply(define_session_number_per_user).reset_index(drop=True)\n",
    "data['links'] = (data['referrerurl'] + ',' + data['targeturl']).str.split(',')"
   ]
  },
  {
   "cell_type": "code",
   "execution_count": 6,
   "id": "33e1e783-34fb-47f2-a83d-b29337f97275",
   "metadata": {},
   "outputs": [],
   "source": [
    "# Now we can make a session-wise analysis:\n",
    "# For each session lets obtain the 'session_time', \n",
    "# the minimun date, and the links (only trip advisor links)\n",
    "data_sessionwise = data.groupby(['userid', 'session_nb']).agg(\n",
    "    session_time = ('eventtimestamp', lambda x: x.max()-x.min()),\n",
    "    session_min_date = ('eventtimestamp', 'min'),\n",
    "    links_per_session = ('links', lambda x: [v for v in x.sum() if URL_TRIPADVISOR in v]),\n",
    ")\n",
    "\n",
    "# With this information now we can compute the \"session max_date\"\n",
    "# We can as well get insight on the unique links per session and how much they are\n",
    "data_sessionwise['session_max_date'] = data_sessionwise['session_min_date'] + data_sessionwise['session_time']\n",
    "data_sessionwise['unique_links_per_session'] = data_sessionwise['links_per_session'].apply(lambda x: list(set(x)))\n",
    "data_sessionwise['nunique_links_per_session'] = data_sessionwise['links_per_session'].apply(lambda x: len(set(x)))\n",
    "\n",
    "# And we can get which was the first and last link.\n",
    "data_sessionwise['first_link'] = data_sessionwise['links_per_session'].apply(lambda x: x[0])\n",
    "data_sessionwise['last_link'] = data_sessionwise['links_per_session'].apply(lambda x: x[-1])\n",
    "\n",
    "# With these information we can get a grasp of a high engagement condition:\n",
    "# In this case, high engagement is defined as having a session time greater (or equal) than the 99th quantile of the session time. \n",
    "high_engagement_condition = data_sessionwise.session_time >= data_sessionwise.session_time.quantile(0.99)\n",
    "#low_engagement_condition = data_sessionwise.session_time <= data_sessionwise.session_time.quantile(0.01)\n",
    "data_sessionwise.loc[high_engagement_condition,'high_engagement'] = 1\n",
    "#data_sessionwise.loc[low_engagement_condition,'high_engagement'] = 0"
   ]
  },
  {
   "cell_type": "markdown",
   "id": "d7a74909-b461-450c-ad52-c6aa7de66602",
   "metadata": {},
   "source": [
    "We can now get the high engagement links, remining that to be a high engagement link, \n",
    "one should keep the session open belonging to the top 99% of the session time."
   ]
  },
  {
   "cell_type": "code",
   "execution_count": 7,
   "id": "351d1067-9041-41c4-9db3-7fbd81620da7",
   "metadata": {
    "scrolled": true
   },
   "outputs": [],
   "source": [
    "# High engagement links\n",
    "high_engagement_links = pd.Series(\n",
    "    data_sessionwise[\n",
    "        data_sessionwise.high_engagement == 1\n",
    "    ].links_per_session.sum()\n",
    ")\n",
    "\n",
    "# Lets parse the url, get the path and split the words,\n",
    "# and then get the initial (most representative) word of the path\n",
    "high_engagement_links_path_res = high_engagement_links\\\n",
    ".apply(lambda x: urlparse(x).path.split('-')[0])\\\n",
    ".str.lower()\\\n",
    ".str.replace('.html', '')\\\n",
    ".value_counts(normalize=True) * 100"
   ]
  },
  {
   "cell_type": "code",
   "execution_count": 8,
   "id": "e0272dba-fb05-436d-911b-09ebdaae8dc4",
   "metadata": {},
   "outputs": [
    {
     "data": {
      "text/plain": [
       "/hotel_review                       12.584515\n",
       "/attractions                        12.322792\n",
       "/attraction_review                  10.250818\n",
       "/restaurant_review                   8.091603\n",
       "/attractionproductreview             7.917121\n",
       "/restaurants                         6.673937\n",
       "/attraction_products                 4.427481\n",
       "/hotels                              4.143948\n",
       "/showtopic                           3.009815\n",
       "/                                    2.660851\n",
       "/search                              2.529989\n",
       "/showuserreviews                     1.941112\n",
       "/tourism                             1.875682\n",
       "/smartdeals                          1.723010\n",
       "/showforum                           1.570338\n",
       "                                     1.199564\n",
       "/restaurantsnear                     1.155943\n",
       "/shoppingcartcheckout                1.046892\n",
       "/hotelslist                          1.025082\n",
       "/locationphotodirectlink             0.916031\n",
       "/registrationcontroller              0.872410\n",
       "/attractionbookingdetails            0.697928\n",
       "/vacationrentalreview                0.676118\n",
       "/vacation_packages                   0.610687\n",
       "/clientlink                          0.588877\n",
       "/shoppingcart                        0.567067\n",
       "/hotelsnear                          0.523446\n",
       "/userreviewedit                      0.479826\n",
       "/flights                             0.458015\n",
       "/vacationrentals                     0.458015\n",
       "/bookings                            0.436205\n",
       "/cheapflightssearchresults           0.414395\n",
       "/trips                               0.370774\n",
       "/faq_answers                         0.327154\n",
       "/settings                            0.261723\n",
       "/commerce                            0.261723\n",
       "/cruises                             0.239913\n",
       "/userreview                          0.218103\n",
       "/travel                              0.218103\n",
       "/widgetembed                         0.218103\n",
       "/vracsearch                          0.218103\n",
       "/attractionsnear                     0.218103\n",
       "/passwordreset                       0.196292\n",
       "/articles                            0.174482\n",
       "/cruise_review                       0.174482\n",
       "/quickreview                         0.174482\n",
       "/trips/90259751                      0.174482\n",
       "/profile/m7208fjdavidh               0.174482\n",
       "/inbox                               0.152672\n",
       "/shoppingcartconfirmation            0.130862\n",
       "/hotelbookingroomselectionhtml       0.130862\n",
       "/url                                 0.130862\n",
       "/localmaps                           0.130862\n",
       "/profile/venture07032070654          0.130862\n",
       "/singleclickoptout                   0.109051\n",
       "/profile/wallingfordel               0.109051\n",
       "/members                             0.087241\n",
       "/trips/62781713/cleveland%20trip     0.087241\n",
       "/infocenterv6                        0.087241\n",
       "/faq                                 0.065431\n",
       "/flightscomparepartners              0.065431\n",
       "/searchforums                        0.065431\n",
       "/profile/jz11773                     0.065431\n",
       "/profile/kinzli                      0.043621\n",
       "/locationphotos                      0.043621\n",
       "/dynamicdeals                        0.043621\n",
       "/profile/marie052011                 0.043621\n",
       "/externallinkinterstitial            0.043621\n",
       "/hotel_feature                       0.043621\n",
       "/profile/sightseer22185080036        0.043621\n",
       "/profile/arananpdx                   0.043621\n",
       "/mpturl                              0.043621\n",
       "/profile/chamdex                     0.043621\n",
       "/optimushotelcheckout                0.043621\n",
       "/updatelisting                       0.043621\n",
       "/profile/i3890adhollys               0.043621\n",
       "/plus                                0.043621\n",
       "/profile/grannymac72                 0.043621\n",
       "/profile/davidhw8773sv               0.043621\n",
       "/profile/catherine                   0.043621\n",
       "/attractiontoursandtickets           0.043621\n",
       "/verifyreview                        0.043621\n",
       "/profile/muhammadkk1137cj            0.043621\n",
       "/airline_review                      0.043621\n",
       "/postphotos                          0.021810\n",
       "/travelmap                           0.021810\n",
       "/profile/roving11130755074           0.021810\n",
       "Name: proportion, dtype: float64"
      ]
     },
     "execution_count": 8,
     "metadata": {},
     "output_type": "execute_result"
    }
   ],
   "source": [
    "# Data Viz\n",
    "high_engagement_links_path_res"
   ]
  },
  {
   "cell_type": "code",
   "execution_count": 9,
   "id": "bbea0f16-0018-4a6b-82e8-7cabcbf22542",
   "metadata": {},
   "outputs": [],
   "source": [
    "# Drop off points\n",
    "\n",
    "# We will define the drop off points as the most relevant path segment of the last link of a session. \n",
    "drop_off_links_path_res = data_sessionwise\\\n",
    ".last_link\\\n",
    ".apply(lambda x: urlparse(x).path.split('-'))\\\n",
    ".explode()\\\n",
    ".value_counts(normalize=True) * 100"
   ]
  },
  {
   "cell_type": "code",
   "execution_count": 10,
   "id": "b036d3b3-d145-4202-9255-5e56a5a15a78",
   "metadata": {},
   "outputs": [
    {
     "data": {
      "text/plain": [
       "last_link\n",
       "Reviews                     6.936653\n",
       "/Hotel_Review               2.851290\n",
       "/Attraction_Review          2.036153\n",
       "/Restaurant_Review          1.960065\n",
       "/                           1.774796\n",
       "reviews                     1.392103\n",
       "/Attractions                1.287650\n",
       "Activities                  1.284949\n",
       "/ShowTopic                  1.253208\n",
       "/Restaurants                0.916888\n",
       "/ShowUserReviews            0.725316\n",
       "/Hotels                     0.549277\n",
       "Hotels.html                 0.538472\n",
       "/attraction_review          0.530368\n",
       "/AttractionProductReview    0.529918\n",
       "/hotel_review               0.447976\n",
       "/Commerce                   0.447751\n",
       "/attractions                0.419162\n",
       "/Attraction_Products        0.417586\n",
       "activities                  0.416911\n",
       "Name: proportion, dtype: float64"
      ]
     },
     "execution_count": 10,
     "metadata": {},
     "output_type": "execute_result"
    }
   ],
   "source": [
    "# Data viz:\n",
    "drop_off_links_path_res.head(20)"
   ]
  }
 ],
 "metadata": {
  "kernelspec": {
   "display_name": "Python 3 (ipykernel)",
   "language": "python",
   "name": "python3"
  },
  "language_info": {
   "codemirror_mode": {
    "name": "ipython",
    "version": 3
   },
   "file_extension": ".py",
   "mimetype": "text/x-python",
   "name": "python",
   "nbconvert_exporter": "python",
   "pygments_lexer": "ipython3",
   "version": "3.8.10"
  }
 },
 "nbformat": 4,
 "nbformat_minor": 5
}
